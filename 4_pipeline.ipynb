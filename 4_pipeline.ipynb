{
 "cells": [
  {
   "cell_type": "code",
   "execution_count": 18,
   "metadata": {},
   "outputs": [],
   "source": [
    "import pickle\n",
    "from sklearn.metrics import classification_report\n",
    "import numpy as np\n",
    "import pandas as pd\n",
    "from sklearn.pipeline import Pipeline\n",
    "from sklearn.preprocessing import StandardScaler\n",
    "from sklearn.impute import SimpleImputer\n",
    "from sklearn.model_selection import train_test_split\n",
    "from sklearn.ensemble import RandomForestClassifier\n",
    "from sklearn.metrics import accuracy_score\n",
    "\n",
    "\n"
   ]
  },
  {
   "cell_type": "code",
   "execution_count": 5,
   "metadata": {},
   "outputs": [],
   "source": [
    "# Cargar el modelo entrenado desde el archivo pickle\n",
    "with open('mejor_rf_modelo.pickle', 'rb') as f:\n",
    "    best_rf_classifier = pickle.load(f)"
   ]
  },
  {
   "cell_type": "code",
   "execution_count": 6,
   "metadata": {},
   "outputs": [],
   "source": [
    "# Cargar las variables desde el archivo pickle\n",
    "with open('datos_split_procesados.pickle', 'rb') as f:\n",
    "    X_train_pca, X_test_pca, y_train, y_test = pickle.load(f)"
   ]
  },
  {
   "cell_type": "code",
   "execution_count": 13,
   "metadata": {},
   "outputs": [],
   "source": [
    "# Realizar predicciones en el conjunto de prueba con el modelo ajustado\n",
    "#y_pred_rf = best_rf_classifier.predict(X_test_pca)"
   ]
  },
  {
   "cell_type": "code",
   "execution_count": 16,
   "metadata": {},
   "outputs": [
    {
     "name": "stdout",
     "output_type": "stream",
     "text": [
      "Informe de Clasificación (Random Forest con mejores hiperparámetros):\n",
      "               precision    recall  f1-score   support\n",
      "\n",
      "           0       0.00      0.00      0.00         4\n",
      "           1       0.68      0.94      0.79        32\n",
      "           2       0.33      0.09      0.14        11\n",
      "\n",
      "    accuracy                           0.66        47\n",
      "   macro avg       0.34      0.34      0.31        47\n",
      "weighted avg       0.54      0.66      0.57        47\n",
      "\n"
     ]
    },
    {
     "name": "stderr",
     "output_type": "stream",
     "text": [
      "c:\\Users\\ocata\\miniconda3\\envs\\proyecto7\\Lib\\site-packages\\sklearn\\metrics\\_classification.py:1509: UndefinedMetricWarning: Precision is ill-defined and being set to 0.0 in labels with no predicted samples. Use `zero_division` parameter to control this behavior.\n",
      "  _warn_prf(average, modifier, f\"{metric.capitalize()} is\", len(result))\n",
      "c:\\Users\\ocata\\miniconda3\\envs\\proyecto7\\Lib\\site-packages\\sklearn\\metrics\\_classification.py:1509: UndefinedMetricWarning: Precision is ill-defined and being set to 0.0 in labels with no predicted samples. Use `zero_division` parameter to control this behavior.\n",
      "  _warn_prf(average, modifier, f\"{metric.capitalize()} is\", len(result))\n",
      "c:\\Users\\ocata\\miniconda3\\envs\\proyecto7\\Lib\\site-packages\\sklearn\\metrics\\_classification.py:1509: UndefinedMetricWarning: Precision is ill-defined and being set to 0.0 in labels with no predicted samples. Use `zero_division` parameter to control this behavior.\n",
      "  _warn_prf(average, modifier, f\"{metric.capitalize()} is\", len(result))\n"
     ]
    }
   ],
   "source": [
    "#print(\"Informe de Clasificación (Random Forest con mejores hiperparámetros):\\n\", classification_report(y_test, y_pred_rf))"
   ]
  },
  {
   "cell_type": "code",
   "execution_count": 17,
   "metadata": {},
   "outputs": [
    {
     "data": {
      "text/plain": [
       "array([[-2.16634330e-04,  2.53811522e+00, -4.78250708e-01, ...,\n",
       "         2.91343596e-01,  7.23072686e-01, -6.58934540e-01],\n",
       "       [ 2.33763985e+00, -9.49282710e-01, -1.25308027e+00, ...,\n",
       "        -7.02841370e-01, -6.22183244e-02, -7.41561589e-01],\n",
       "       [ 2.23880518e+00,  4.08862105e-02,  1.70050856e+00, ...,\n",
       "         5.53721858e-01,  4.73927392e-02, -1.03357687e+00],\n",
       "       ...,\n",
       "       [ 7.29911817e-01, -6.64358525e-01,  9.86776946e-01, ...,\n",
       "         1.13226717e+00,  2.15343009e+00,  1.23328675e+00],\n",
       "       [-5.20694435e-01, -5.75259781e-01, -2.46100642e-01, ...,\n",
       "         3.61412842e-01,  1.20275074e+00,  6.03491293e-01],\n",
       "       [ 2.19604193e+00, -5.34445971e-01,  3.96440262e-01, ...,\n",
       "         1.89391520e+00, -9.72579958e-01, -1.24701960e+00]])"
      ]
     },
     "execution_count": 17,
     "metadata": {},
     "output_type": "execute_result"
    }
   ],
   "source": [
    "X_test_pca "
   ]
  }
 ],
 "metadata": {
  "kernelspec": {
   "display_name": "proyecto7",
   "language": "python",
   "name": "python3"
  },
  "language_info": {
   "codemirror_mode": {
    "name": "ipython",
    "version": 3
   },
   "file_extension": ".py",
   "mimetype": "text/x-python",
   "name": "python",
   "nbconvert_exporter": "python",
   "pygments_lexer": "ipython3",
   "version": "3.12.3"
  }
 },
 "nbformat": 4,
 "nbformat_minor": 2
}
