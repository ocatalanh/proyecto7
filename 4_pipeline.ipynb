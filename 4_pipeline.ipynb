{
 "cells": [
  {
   "cell_type": "code",
   "execution_count": 1,
   "metadata": {},
   "outputs": [],
   "source": [
    "from scripts.pipeline import tuberia_transform"
   ]
  },
  {
   "cell_type": "code",
   "execution_count": 5,
   "metadata": {},
   "outputs": [
    {
     "name": "stderr",
     "output_type": "stream",
     "text": [
      "c:\\Users\\ocata\\OneDrive\\Desktop\\Proyecto7_DS\\scripts\\remp_valores_binarios.py:28: FutureWarning: Downcasting behavior in `replace` is deprecated and will be removed in a future version. To retain the old behavior, explicitly call `result.infer_objects(copy=False)`. To opt-in to the future behavior, set `pd.set_option('future.no_silent_downcasting', True)`\n",
      "  data[col] = data[col].replace(reemplazos)\n"
     ]
    },
    {
     "data": {
      "text/plain": [
       "array([[-0.73934142, -0.56962479,  2.08018524, ...,  0.09667698,\n",
       "        -1.4260584 ,  1.49816835],\n",
       "       [-2.48810861, -0.92842962,  0.66643971, ..., -0.37894659,\n",
       "        -0.04386389, -0.64530597],\n",
       "       [-0.74487913,  0.49973036,  0.01804406, ...,  0.38885346,\n",
       "         1.15214377, -0.5430407 ],\n",
       "       ...,\n",
       "       [ 2.04397454,  1.30196849,  0.12328021, ...,  0.1498221 ,\n",
       "        -1.39590332, -1.19845298],\n",
       "       [-0.84704673,  0.27342437,  0.48865175, ...,  0.99048843,\n",
       "         0.19342812,  0.4013577 ],\n",
       "       [ 4.62816896,  0.79320971, -0.71097622, ..., -0.91243025,\n",
       "         0.624291  ,  0.00586726]])"
      ]
     },
     "execution_count": 5,
     "metadata": {},
     "output_type": "execute_result"
    }
   ],
   "source": [
    "df = pd.read_csv(r\"C:\\Users\\ocata\\OneDrive\\Desktop\\Proyecto7_DS\\data\\raw\\Your Career Aspirations of GenZ.csv\")\n",
    "X_pca = tuberia_transform(df)\n",
    "X_pca"
   ]
  }
 ],
 "metadata": {
  "kernelspec": {
   "display_name": "proyecto7",
   "language": "python",
   "name": "python3"
  },
  "language_info": {
   "codemirror_mode": {
    "name": "ipython",
    "version": 3
   },
   "file_extension": ".py",
   "mimetype": "text/x-python",
   "name": "python",
   "nbconvert_exporter": "python",
   "pygments_lexer": "ipython3",
   "version": "3.12.3"
  }
 },
 "nbformat": 4,
 "nbformat_minor": 2
}
