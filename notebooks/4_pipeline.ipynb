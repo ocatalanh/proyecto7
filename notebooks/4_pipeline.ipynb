{
 "cells": [
  {
   "cell_type": "code",
   "execution_count": 3,
   "metadata": {},
   "outputs": [
    {
     "ename": "ModuleNotFoundError",
     "evalue": "No module named 'scripts.trad_columnas'",
     "output_type": "error",
     "traceback": [
      "\u001b[1;31m---------------------------------------------------------------------------\u001b[0m",
      "\u001b[1;31mModuleNotFoundError\u001b[0m                       Traceback (most recent call last)",
      "Cell \u001b[1;32mIn[3], line 11\u001b[0m\n\u001b[0;32m      9\u001b[0m \u001b[38;5;28;01mfrom\u001b[39;00m \u001b[38;5;21;01msklearn\u001b[39;00m\u001b[38;5;21;01m.\u001b[39;00m\u001b[38;5;21;01mensemble\u001b[39;00m \u001b[38;5;28;01mimport\u001b[39;00m RandomForestClassifier\n\u001b[0;32m     10\u001b[0m \u001b[38;5;28;01mfrom\u001b[39;00m \u001b[38;5;21;01msklearn\u001b[39;00m\u001b[38;5;21;01m.\u001b[39;00m\u001b[38;5;21;01mmetrics\u001b[39;00m \u001b[38;5;28;01mimport\u001b[39;00m accuracy_score\n\u001b[1;32m---> 11\u001b[0m \u001b[38;5;28;01mfrom\u001b[39;00m \u001b[38;5;21;01mscripts\u001b[39;00m\u001b[38;5;21;01m.\u001b[39;00m\u001b[38;5;21;01mtrad_columnas\u001b[39;00m \u001b[38;5;28;01mimport\u001b[39;00m trad_columnas\n",
      "\u001b[1;31mModuleNotFoundError\u001b[0m: No module named 'scripts.trad_columnas'"
     ]
    }
   ],
   "source": [
    "import pickle\n",
    "from sklearn.metrics import classification_report\n",
    "import numpy as np\n",
    "import pandas as pd\n",
    "from sklearn.pipeline import Pipeline\n",
    "from sklearn.preprocessing import StandardScaler\n",
    "from sklearn.impute import SimpleImputer\n",
    "from sklearn.model_selection import train_test_split\n",
    "from sklearn.ensemble import RandomForestClassifier\n",
    "from sklearn.metrics import accuracy_score\n",
    "from scripts.trad_columnas import trad_columnas\n",
    "\n",
    "\n",
    "\n",
    "\n",
    "\n"
   ]
  },
  {
   "cell_type": "code",
   "execution_count": 38,
   "metadata": {},
   "outputs": [
    {
     "ename": "FileNotFoundError",
     "evalue": "[Errno 2] No such file or directory: 'mejor_rf_modelo.pickle'",
     "output_type": "error",
     "traceback": [
      "\u001b[1;31m---------------------------------------------------------------------------\u001b[0m",
      "\u001b[1;31mFileNotFoundError\u001b[0m                         Traceback (most recent call last)",
      "Cell \u001b[1;32mIn[38], line 2\u001b[0m\n\u001b[0;32m      1\u001b[0m \u001b[38;5;66;03m# Cargar el modelo entrenado desde el archivo pickle\u001b[39;00m\n\u001b[1;32m----> 2\u001b[0m \u001b[38;5;28;01mwith\u001b[39;00m \u001b[38;5;28;43mopen\u001b[39;49m\u001b[43m(\u001b[49m\u001b[38;5;124;43m'\u001b[39;49m\u001b[38;5;124;43mmejor_rf_modelo.pickle\u001b[39;49m\u001b[38;5;124;43m'\u001b[39;49m\u001b[43m,\u001b[49m\u001b[43m \u001b[49m\u001b[38;5;124;43m'\u001b[39;49m\u001b[38;5;124;43mrb\u001b[39;49m\u001b[38;5;124;43m'\u001b[39;49m\u001b[43m)\u001b[49m \u001b[38;5;28;01mas\u001b[39;00m f:\n\u001b[0;32m      3\u001b[0m     best_rf_classifier \u001b[38;5;241m=\u001b[39m pickle\u001b[38;5;241m.\u001b[39mload(f)\n",
      "File \u001b[1;32mc:\\Users\\ocata\\miniconda3\\envs\\proyecto7\\Lib\\site-packages\\IPython\\core\\interactiveshell.py:324\u001b[0m, in \u001b[0;36m_modified_open\u001b[1;34m(file, *args, **kwargs)\u001b[0m\n\u001b[0;32m    317\u001b[0m \u001b[38;5;28;01mif\u001b[39;00m file \u001b[38;5;129;01min\u001b[39;00m {\u001b[38;5;241m0\u001b[39m, \u001b[38;5;241m1\u001b[39m, \u001b[38;5;241m2\u001b[39m}:\n\u001b[0;32m    318\u001b[0m     \u001b[38;5;28;01mraise\u001b[39;00m \u001b[38;5;167;01mValueError\u001b[39;00m(\n\u001b[0;32m    319\u001b[0m         \u001b[38;5;124mf\u001b[39m\u001b[38;5;124m\"\u001b[39m\u001b[38;5;124mIPython won\u001b[39m\u001b[38;5;124m'\u001b[39m\u001b[38;5;124mt let you open fd=\u001b[39m\u001b[38;5;132;01m{\u001b[39;00mfile\u001b[38;5;132;01m}\u001b[39;00m\u001b[38;5;124m by default \u001b[39m\u001b[38;5;124m\"\u001b[39m\n\u001b[0;32m    320\u001b[0m         \u001b[38;5;124m\"\u001b[39m\u001b[38;5;124mas it is likely to crash IPython. If you know what you are doing, \u001b[39m\u001b[38;5;124m\"\u001b[39m\n\u001b[0;32m    321\u001b[0m         \u001b[38;5;124m\"\u001b[39m\u001b[38;5;124myou can use builtins\u001b[39m\u001b[38;5;124m'\u001b[39m\u001b[38;5;124m open.\u001b[39m\u001b[38;5;124m\"\u001b[39m\n\u001b[0;32m    322\u001b[0m     )\n\u001b[1;32m--> 324\u001b[0m \u001b[38;5;28;01mreturn\u001b[39;00m \u001b[43mio_open\u001b[49m\u001b[43m(\u001b[49m\u001b[43mfile\u001b[49m\u001b[43m,\u001b[49m\u001b[43m \u001b[49m\u001b[38;5;241;43m*\u001b[39;49m\u001b[43margs\u001b[49m\u001b[43m,\u001b[49m\u001b[43m \u001b[49m\u001b[38;5;241;43m*\u001b[39;49m\u001b[38;5;241;43m*\u001b[39;49m\u001b[43mkwargs\u001b[49m\u001b[43m)\u001b[49m\n",
      "\u001b[1;31mFileNotFoundError\u001b[0m: [Errno 2] No such file or directory: 'mejor_rf_modelo.pickle'"
     ]
    }
   ],
   "source": [
    "# Cargar el modelo entrenado desde el archivo pickle\n",
    "with open('mejor_rf_modelo.pickle', 'rb') as f:\n",
    "    best_rf_classifier = pickle.load(f)"
   ]
  },
  {
   "cell_type": "code",
   "execution_count": null,
   "metadata": {},
   "outputs": [],
   "source": [
    "# Cargar las variables desde el archivo pickle\n",
    "with open('datos_split_procesados.pickle', 'rb') as f:\n",
    "    X_train_pca, X_test_pca, y_train, y_test = pickle.load(f)"
   ]
  },
  {
   "cell_type": "code",
   "execution_count": null,
   "metadata": {},
   "outputs": [],
   "source": [
    "# Realizar predicciones en el conjunto de prueba con el modelo ajustado\n",
    "#y_pred_rf = best_rf_classifier.predict(X_test_pca)"
   ]
  },
  {
   "cell_type": "code",
   "execution_count": null,
   "metadata": {},
   "outputs": [
    {
     "name": "stdout",
     "output_type": "stream",
     "text": [
      "Informe de Clasificación (Random Forest con mejores hiperparámetros):\n",
      "               precision    recall  f1-score   support\n",
      "\n",
      "           0       0.00      0.00      0.00         4\n",
      "           1       0.68      0.94      0.79        32\n",
      "           2       0.33      0.09      0.14        11\n",
      "\n",
      "    accuracy                           0.66        47\n",
      "   macro avg       0.34      0.34      0.31        47\n",
      "weighted avg       0.54      0.66      0.57        47\n",
      "\n"
     ]
    },
    {
     "name": "stderr",
     "output_type": "stream",
     "text": [
      "c:\\Users\\ocata\\miniconda3\\envs\\proyecto7\\Lib\\site-packages\\sklearn\\metrics\\_classification.py:1509: UndefinedMetricWarning: Precision is ill-defined and being set to 0.0 in labels with no predicted samples. Use `zero_division` parameter to control this behavior.\n",
      "  _warn_prf(average, modifier, f\"{metric.capitalize()} is\", len(result))\n",
      "c:\\Users\\ocata\\miniconda3\\envs\\proyecto7\\Lib\\site-packages\\sklearn\\metrics\\_classification.py:1509: UndefinedMetricWarning: Precision is ill-defined and being set to 0.0 in labels with no predicted samples. Use `zero_division` parameter to control this behavior.\n",
      "  _warn_prf(average, modifier, f\"{metric.capitalize()} is\", len(result))\n",
      "c:\\Users\\ocata\\miniconda3\\envs\\proyecto7\\Lib\\site-packages\\sklearn\\metrics\\_classification.py:1509: UndefinedMetricWarning: Precision is ill-defined and being set to 0.0 in labels with no predicted samples. Use `zero_division` parameter to control this behavior.\n",
      "  _warn_prf(average, modifier, f\"{metric.capitalize()} is\", len(result))\n"
     ]
    }
   ],
   "source": [
    "#print(\"Informe de Clasificación (Random Forest con mejores hiperparámetros):\\n\", classification_report(y_test, y_pred_rf))"
   ]
  },
  {
   "cell_type": "code",
   "execution_count": null,
   "metadata": {},
   "outputs": [
    {
     "data": {
      "text/plain": [
       "array([[-2.16634330e-04,  2.53811522e+00, -4.78250708e-01, ...,\n",
       "         2.91343596e-01,  7.23072686e-01, -6.58934540e-01],\n",
       "       [ 2.33763985e+00, -9.49282710e-01, -1.25308027e+00, ...,\n",
       "        -7.02841370e-01, -6.22183244e-02, -7.41561589e-01],\n",
       "       [ 2.23880518e+00,  4.08862105e-02,  1.70050856e+00, ...,\n",
       "         5.53721858e-01,  4.73927392e-02, -1.03357687e+00],\n",
       "       ...,\n",
       "       [ 7.29911817e-01, -6.64358525e-01,  9.86776946e-01, ...,\n",
       "         1.13226717e+00,  2.15343009e+00,  1.23328675e+00],\n",
       "       [-5.20694435e-01, -5.75259781e-01, -2.46100642e-01, ...,\n",
       "         3.61412842e-01,  1.20275074e+00,  6.03491293e-01],\n",
       "       [ 2.19604193e+00, -5.34445971e-01,  3.96440262e-01, ...,\n",
       "         1.89391520e+00, -9.72579958e-01, -1.24701960e+00]])"
      ]
     },
     "execution_count": 17,
     "metadata": {},
     "output_type": "execute_result"
    }
   ],
   "source": [
    "X_test_pca "
   ]
  },
  {
   "cell_type": "code",
   "execution_count": 39,
   "metadata": {},
   "outputs": [],
   "source": [
    "from scripts.trad_columnas import trad_columnas\n",
    "from scripts.remp_valores_binarios import reemplazar_valores_binarios\n",
    "from scripts.one_hot_encoder import one_hot_encode_dataframe\n",
    "from scripts.split_and_group_multivar import multi_var\n",
    "\n",
    "\n"
   ]
  },
  {
   "cell_type": "code",
   "execution_count": 43,
   "metadata": {},
   "outputs": [
    {
     "name": "stderr",
     "output_type": "stream",
     "text": [
      "c:\\Users\\ocata\\OneDrive\\Desktop\\Proyecto7_DS\\scripts\\remp_valores_binarios.py:28: FutureWarning: Downcasting behavior in `replace` is deprecated and will be removed in a future version. To retain the old behavior, explicitly call `result.infer_objects(copy=False)`. To opt-in to the future behavior, set `pd.set_option('future.no_silent_downcasting', True)`\n",
      "  data[col] = data[col].replace(reemplazos)\n"
     ]
    },
    {
     "data": {
      "text/html": [
       "<div>\n",
       "<style scoped>\n",
       "    .dataframe tbody tr th:only-of-type {\n",
       "        vertical-align: middle;\n",
       "    }\n",
       "\n",
       "    .dataframe tbody tr th {\n",
       "        vertical-align: top;\n",
       "    }\n",
       "\n",
       "    .dataframe thead th {\n",
       "        text-align: right;\n",
       "    }\n",
       "</style>\n",
       "<table border=\"1\" class=\"dataframe\">\n",
       "  <thead>\n",
       "    <tr style=\"text-align: right;\">\n",
       "      <th></th>\n",
       "      <th>TrabajariaEmpresaMisionNoDefinida</th>\n",
       "      <th>ProbabilidadTrabajarMisionDesalineada</th>\n",
       "      <th>ProbabilidadTrabajarSinImpactoSocial</th>\n",
       "      <th>Genero_Female</th>\n",
       "      <th>Genero_Male</th>\n",
       "      <th>FactoresInfluenciaCarrera_Influencers who had successful careers</th>\n",
       "      <th>FactoresInfluenciaCarrera_My Parents</th>\n",
       "      <th>FactoresInfluenciaCarrera_People from my circle, but not family members</th>\n",
       "      <th>FactoresInfluenciaCarrera_People who have changed the world for better</th>\n",
       "      <th>FactoresInfluenciaCarrera_Social Media like LinkedIn</th>\n",
       "      <th>...</th>\n",
       "      <th>ConfiguracionPreferida_Trabajar con 2 a 3 personas en mi equipo</th>\n",
       "      <th>ConfiguracionPreferida_Trabajar con 5 a 6 personas en mi equipo</th>\n",
       "      <th>ConfiguracionPreferida_Trabajar con 7 a 10 o más personas en mi equipo</th>\n",
       "      <th>ConfiguracionPreferida_Trabajar con más de 10 personas en mi equipo</th>\n",
       "      <th>ConfiguracionPreferida_Trabajar solo</th>\n",
       "      <th>ConfiguracionPreferida_Work alone</th>\n",
       "      <th>ConfiguracionPreferida_Work with 2 to 3 people in my team</th>\n",
       "      <th>ConfiguracionPreferida_Work with 5 to 6 people in my team</th>\n",
       "      <th>ConfiguracionPreferida_Work with 7 to 10 or more people in my team</th>\n",
       "      <th>ConfiguracionPreferida_Work with more than 10 people in my team</th>\n",
       "    </tr>\n",
       "  </thead>\n",
       "  <tbody>\n",
       "    <tr>\n",
       "      <th>0</th>\n",
       "      <td>0</td>\n",
       "      <td>0</td>\n",
       "      <td>4</td>\n",
       "      <td>0.0</td>\n",
       "      <td>1.0</td>\n",
       "      <td>0.0</td>\n",
       "      <td>0.0</td>\n",
       "      <td>0.0</td>\n",
       "      <td>1.0</td>\n",
       "      <td>0.0</td>\n",
       "      <td>...</td>\n",
       "      <td>0</td>\n",
       "      <td>0</td>\n",
       "      <td>0</td>\n",
       "      <td>0</td>\n",
       "      <td>0</td>\n",
       "      <td>1</td>\n",
       "      <td>1</td>\n",
       "      <td>1</td>\n",
       "      <td>1</td>\n",
       "      <td>1</td>\n",
       "    </tr>\n",
       "    <tr>\n",
       "      <th>1</th>\n",
       "      <td>0</td>\n",
       "      <td>0</td>\n",
       "      <td>1</td>\n",
       "      <td>0.0</td>\n",
       "      <td>1.0</td>\n",
       "      <td>0.0</td>\n",
       "      <td>0.0</td>\n",
       "      <td>0.0</td>\n",
       "      <td>1.0</td>\n",
       "      <td>0.0</td>\n",
       "      <td>...</td>\n",
       "      <td>0</td>\n",
       "      <td>1</td>\n",
       "      <td>0</td>\n",
       "      <td>0</td>\n",
       "      <td>0</td>\n",
       "      <td>0</td>\n",
       "      <td>0</td>\n",
       "      <td>0</td>\n",
       "      <td>0</td>\n",
       "      <td>0</td>\n",
       "    </tr>\n",
       "  </tbody>\n",
       "</table>\n",
       "<p>2 rows × 55 columns</p>\n",
       "</div>"
      ],
      "text/plain": [
       "   TrabajariaEmpresaMisionNoDefinida  ProbabilidadTrabajarMisionDesalineada  \\\n",
       "0                                  0                                      0   \n",
       "1                                  0                                      0   \n",
       "\n",
       "   ProbabilidadTrabajarSinImpactoSocial  Genero_Female  Genero_Male  \\\n",
       "0                                     4            0.0          1.0   \n",
       "1                                     1            0.0          1.0   \n",
       "\n",
       "   FactoresInfluenciaCarrera_Influencers who had successful careers  \\\n",
       "0                                                0.0                  \n",
       "1                                                0.0                  \n",
       "\n",
       "   FactoresInfluenciaCarrera_My Parents  \\\n",
       "0                                   0.0   \n",
       "1                                   0.0   \n",
       "\n",
       "   FactoresInfluenciaCarrera_People from my circle, but not family members  \\\n",
       "0                                                0.0                         \n",
       "1                                                0.0                         \n",
       "\n",
       "   FactoresInfluenciaCarrera_People who have changed the world for better  \\\n",
       "0                                                1.0                        \n",
       "1                                                1.0                        \n",
       "\n",
       "   FactoresInfluenciaCarrera_Social Media like LinkedIn  ...  \\\n",
       "0                                                0.0     ...   \n",
       "1                                                0.0     ...   \n",
       "\n",
       "   ConfiguracionPreferida_Trabajar con 2 a 3 personas en mi equipo  \\\n",
       "0                                                  0                 \n",
       "1                                                  0                 \n",
       "\n",
       "   ConfiguracionPreferida_Trabajar con 5 a 6 personas en mi equipo  \\\n",
       "0                                                  0                 \n",
       "1                                                  1                 \n",
       "\n",
       "   ConfiguracionPreferida_Trabajar con 7 a 10 o más personas en mi equipo  \\\n",
       "0                                                  0                        \n",
       "1                                                  0                        \n",
       "\n",
       "   ConfiguracionPreferida_Trabajar con más de 10 personas en mi equipo  \\\n",
       "0                                                  0                     \n",
       "1                                                  0                     \n",
       "\n",
       "   ConfiguracionPreferida_Trabajar solo  ConfiguracionPreferida_Work alone  \\\n",
       "0                                     0                                  1   \n",
       "1                                     0                                  0   \n",
       "\n",
       "   ConfiguracionPreferida_Work with 2 to 3 people in my team  \\\n",
       "0                                                  1           \n",
       "1                                                  0           \n",
       "\n",
       "   ConfiguracionPreferida_Work with 5 to 6 people in my team  \\\n",
       "0                                                  1           \n",
       "1                                                  0           \n",
       "\n",
       "   ConfiguracionPreferida_Work with 7 to 10 or more people in my team  \\\n",
       "0                                                  1                    \n",
       "1                                                  0                    \n",
       "\n",
       "   ConfiguracionPreferida_Work with more than 10 people in my team  \n",
       "0                                                  1                \n",
       "1                                                  0                \n",
       "\n",
       "[2 rows x 55 columns]"
      ]
     },
     "execution_count": 43,
     "metadata": {},
     "output_type": "execute_result"
    }
   ],
   "source": [
    "df = pd.read_csv(r\"C:\\Users\\ocata\\OneDrive\\Desktop\\Proyecto7_DS\\data\\raw\\Your Career Aspirations of GenZ.csv\")\n",
    "df = trad_columnas(df)\n",
    "df = df.drop(columns=['ProbabilidadLealtadLaboral','PaisActual', 'CodigoPostalActual'])\n",
    "df['TrabajariaEmpresaMisionNoDefinida'] = reemplazar_valores_binarios(df,'TrabajariaEmpresaMisionNoDefinida')\n",
    "df['ProbabilidadTrabajarMisionDesalineada'] = reemplazar_valores_binarios(df,'ProbabilidadTrabajarMisionDesalineada')\n",
    "X = df[['TrabajariaEmpresaMisionNoDefinida', 'ProbabilidadTrabajarMisionDesalineada', 'ProbabilidadTrabajarSinImpactoSocial']]\n",
    "dummies = df[['Genero','FactoresInfluenciaCarrera', 'EducacionSuperiorExtranjero','EntornoTrabajoPreferido',\n",
    "'EmpleadoresPreferidos', 'EntornoAprendizajePreferido','TipoGerentePreferido']]\n",
    "\n",
    "df_encoded = one_hot_encode_dataframe(dummies)\n",
    "X = pd.concat([X, df_encoded], axis=1)\n",
    "\n",
    "\n",
    "multivariables = ['CarreraAspiracional','ConfiguracionPreferida']\n",
    "\n",
    "\n",
    "X_mutivar = multi_var(df, multivariables)\n",
    "\n",
    "X = pd.concat([X, X_mutivar], axis=1)\n",
    "X.shape\n",
    "\n",
    "X.head(2)"
   ]
  },
  {
   "cell_type": "code",
   "execution_count": 5,
   "metadata": {},
   "outputs": [
    {
     "ename": "NameError",
     "evalue": "name 'pickle' is not defined",
     "output_type": "error",
     "traceback": [
      "\u001b[1;31m---------------------------------------------------------------------------\u001b[0m",
      "\u001b[1;31mNameError\u001b[0m                                 Traceback (most recent call last)",
      "Cell \u001b[1;32mIn[5], line 3\u001b[0m\n\u001b[0;32m      1\u001b[0m \u001b[38;5;66;03m# Cargar DataFrame desde un archivo pickle\u001b[39;00m\n\u001b[0;32m      2\u001b[0m \u001b[38;5;28;01mwith\u001b[39;00m \u001b[38;5;28mopen\u001b[39m(\u001b[38;5;124mr\u001b[39m\u001b[38;5;124m'\u001b[39m\u001b[38;5;124mC:\u001b[39m\u001b[38;5;124m\\\u001b[39m\u001b[38;5;124mUsers\u001b[39m\u001b[38;5;124m\\\u001b[39m\u001b[38;5;124mocata\u001b[39m\u001b[38;5;124m\\\u001b[39m\u001b[38;5;124mOneDrive\u001b[39m\u001b[38;5;124m\\\u001b[39m\u001b[38;5;124mDesktop\u001b[39m\u001b[38;5;124m\\\u001b[39m\u001b[38;5;124mProyecto7_DS\u001b[39m\u001b[38;5;124m\\\u001b[39m\u001b[38;5;124mdf_eda.pkl\u001b[39m\u001b[38;5;124m'\u001b[39m, \u001b[38;5;124m'\u001b[39m\u001b[38;5;124mrb\u001b[39m\u001b[38;5;124m'\u001b[39m) \u001b[38;5;28;01mas\u001b[39;00m file:\n\u001b[1;32m----> 3\u001b[0m     df_ \u001b[38;5;241m=\u001b[39m \u001b[43mpickle\u001b[49m\u001b[38;5;241m.\u001b[39mload(file)\n",
      "\u001b[1;31mNameError\u001b[0m: name 'pickle' is not defined"
     ]
    }
   ],
   "source": [
    "# Cargar DataFrame desde un archivo pickle\n",
    "with open(r'C:\\Users\\ocata\\OneDrive\\Desktop\\Proyecto7_DS\\df_eda.pkl', 'rb') as file:\n",
    "    df_ = pickle.load(file)"
   ]
  },
  {
   "cell_type": "code",
   "execution_count": null,
   "metadata": {},
   "outputs": [
    {
     "data": {
      "text/plain": [
       "(235, 14)"
      ]
     },
     "execution_count": 13,
     "metadata": {},
     "output_type": "execute_result"
    }
   ],
   "source": [
    "df_.head(2)"
   ]
  }
 ],
 "metadata": {
  "kernelspec": {
   "display_name": "proyecto7",
   "language": "python",
   "name": "python3"
  },
  "language_info": {
   "codemirror_mode": {
    "name": "ipython",
    "version": 3
   },
   "file_extension": ".py",
   "mimetype": "text/x-python",
   "name": "python",
   "nbconvert_exporter": "python",
   "pygments_lexer": "ipython3",
   "version": "3.12.3"
  }
 },
 "nbformat": 4,
 "nbformat_minor": 2
}
